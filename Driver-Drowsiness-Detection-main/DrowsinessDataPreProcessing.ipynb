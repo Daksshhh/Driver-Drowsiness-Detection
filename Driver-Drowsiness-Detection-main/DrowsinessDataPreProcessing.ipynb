{
 "cells": [
  {
   "cell_type": "code",
   "execution_count": 2,
   "id": "60d11168-39a7-480f-9829-f806bc4c2b48",
   "metadata": {},
   "outputs": [],
   "source": [
    "import os\n",
    "import shutil\n",
    "import glob\n",
    "from tqdm import tqdm"
   ]
  },
  {
   "cell_type": "markdown",
   "id": "8622a127-6c5e-4bfe-a8c8-a951369c8786",
   "metadata": {},
   "source": [
    "#subject ID:\n",
    "xxx\n",
    "\n",
    "image number:\n",
    "xxx\n",
    "\n",
    "gender:\n",
    "0 - male\n",
    "1 - female\n",
    "\n",
    "glasses:\n",
    "0 - no\n",
    "1 - yes\n",
    "\n",
    "eye state:\n",
    "0 - close\n",
    "1 - open\n",
    "\n",
    "reflections:\n",
    "0 - none\n",
    "1 - low\n",
    "2 - high\n",
    "\n",
    "lighting conditions/image quality:\n",
    "0 - bad\n",
    "1 - good\n",
    "\n",
    "sensor type:\n",
    "01 - RealSense SR300 640x480\n",
    "02 - IDS Imaging, 1280x1024\n",
    "03 - Aptina Imagin 752x480\n",
    "\n",
    "example:\n",
    "s001_00123_0_0_0_0_0_01.png"
   ]
  },
  {
   "cell_type": "code",
   "execution_count": 6,
   "id": "3c7a7ebb-1950-437a-949d-fa0683a1e0fe",
   "metadata": {},
   "outputs": [
    {
     "name": "stderr",
     "output_type": "stream",
     "text": [
      "0it [00:00, ?it/s]\n",
      "100%|██████████| 3242/3242 [00:05<00:00, 598.50it/s]\n",
      "100%|██████████| 1114/1114 [00:02<00:00, 501.80it/s]\n",
      "100%|██████████| 679/679 [00:01<00:00, 520.45it/s]\n",
      "100%|██████████| 1069/1069 [00:02<00:00, 507.26it/s]\n",
      "100%|██████████| 736/736 [00:01<00:00, 450.92it/s]\n",
      "100%|██████████| 1012/1012 [00:02<00:00, 416.81it/s]\n",
      "100%|██████████| 624/624 [00:01<00:00, 380.64it/s]\n",
      "100%|██████████| 832/832 [00:02<00:00, 386.62it/s]\n",
      "100%|██████████| 387/387 [00:00<00:00, 487.13it/s]\n",
      "100%|██████████| 399/399 [00:00<00:00, 463.33it/s]\n",
      "100%|██████████| 1648/1648 [00:03<00:00, 489.14it/s]\n",
      "100%|██████████| 8728/8728 [00:18<00:00, 461.27it/s]\n",
      "100%|██████████| 3605/3605 [00:07<00:00, 469.10it/s]\n",
      "100%|██████████| 8884/8884 [00:21<00:00, 420.08it/s]\n",
      "100%|██████████| 1132/1132 [00:02<00:00, 405.85it/s]\n",
      "100%|██████████| 1889/1889 [00:05<00:00, 363.81it/s]\n",
      "100%|██████████| 1648/1648 [00:04<00:00, 354.87it/s]\n",
      "100%|██████████| 4410/4410 [00:12<00:00, 339.51it/s]\n",
      "100%|██████████| 6175/6175 [00:16<00:00, 375.07it/s]\n",
      "100%|██████████| 704/704 [00:01<00:00, 407.65it/s]\n",
      "100%|██████████| 987/987 [00:02<00:00, 443.40it/s]\n",
      "100%|██████████| 382/382 [00:00<00:00, 409.79it/s]\n",
      "100%|██████████| 522/522 [00:01<00:00, 447.31it/s]\n",
      "100%|██████████| 752/752 [00:01<00:00, 416.29it/s]\n",
      "100%|██████████| 1502/1502 [00:03<00:00, 392.10it/s]\n",
      "100%|██████████| 1246/1246 [00:03<00:00, 348.53it/s]\n",
      "100%|██████████| 665/665 [00:01<00:00, 425.93it/s]\n",
      "100%|██████████| 736/736 [00:01<00:00, 438.92it/s]\n",
      "100%|██████████| 1393/1393 [00:03<00:00, 429.01it/s]\n",
      "100%|██████████| 1384/1384 [00:03<00:00, 370.54it/s]\n",
      "100%|██████████| 1738/1738 [00:05<00:00, 309.85it/s]\n",
      "100%|██████████| 6162/6162 [00:14<00:00, 427.77it/s]\n",
      "100%|██████████| 681/681 [00:01<00:00, 413.57it/s]\n",
      "100%|██████████| 739/739 [00:01<00:00, 425.34it/s]\n",
      "100%|██████████| 642/642 [00:01<00:00, 412.40it/s]\n",
      "100%|██████████| 6193/6193 [00:18<00:00, 330.42it/s]\n",
      "100%|██████████| 10257/10257 [00:24<00:00, 411.11it/s]\n"
     ]
    }
   ],
   "source": [
    "Raw_DIR = r'C:\\Users\\HP\\Driver Drowsiness Detection\\mrlEyes_2018_01'\n",
    "for dirpath,dirname,filenames in os.walk(Raw_DIR):\n",
    "    for i in tqdm([f for f in filenames if f.endswith('.png')]):\n",
    "        if i.split('_')[4]=='0':\n",
    "            shutil.copy(src=dirpath+'/'+i,dst=r'C:\\Users\\HP\\Driver Drowsiness Detection\\Prepared_data\\Closed Eyes')\n",
    "        elif i.split('_')[4]=='1':\n",
    "            shutil.copy(src=dirpath+'/'+i,dst=r'C:\\Users\\HP\\Driver Drowsiness Detection\\Prepared_data\\Open Eyes')"
   ]
  },
  {
   "cell_type": "code",
   "execution_count": null,
   "id": "beff854e-8391-4d42-a821-a19d3c08d37f",
   "metadata": {},
   "outputs": [],
   "source": []
  }
 ],
 "metadata": {
  "kernelspec": {
   "display_name": "Python 3 (ipykernel)",
   "language": "python",
   "name": "python3"
  },
  "language_info": {
   "codemirror_mode": {
    "name": "ipython",
    "version": 3
   },
   "file_extension": ".py",
   "mimetype": "text/x-python",
   "name": "python",
   "nbconvert_exporter": "python",
   "pygments_lexer": "ipython3",
   "version": "3.10.9"
  }
 },
 "nbformat": 4,
 "nbformat_minor": 5
}
